{
  "nbformat": 4,
  "nbformat_minor": 0,
  "metadata": {
    "colab": {
      "name": "Plot Types - Continuous Data.ipynb",
      "provenance": [],
      "collapsed_sections": []
    },
    "kernelspec": {
      "display_name": "Python 3",
      "language": "python",
      "name": "python3"
    },
    "language_info": {
      "codemirror_mode": {
        "name": "ipython",
        "version": 3
      },
      "file_extension": ".py",
      "mimetype": "text/x-python",
      "name": "python",
      "nbconvert_exporter": "python",
      "pygments_lexer": "ipython3",
      "version": "3.8.5"
    }
  },
  "cells": [
    {
      "cell_type": "markdown",
      "metadata": {
        "id": "5-mh0mIuVNDw"
      },
      "source": [
        "# Plot Types - Continuous Data"
      ]
    },
    {
      "cell_type": "markdown",
      "metadata": {
        "id": "EeumdZWF7N4s"
      },
      "source": [
        "## Scatter Plots\n",
        "\n",
        "The ```plt.scatter``` command ([manual page](https://matplotlib.org/stable/api/_as_gen/matplotlib.pyplot.scatter.html)) allows us to produce a scatter plot. The first two arguments which describe the x and y coordinates of the points respectively. The first entry in x pairs with the first entry in y to give the coordinates of the first point and so on. As a result, these sequences must have the same number of points.\n",
        "\n",
        "We can also specify the size of points using the \"s\" optional argument. If this value is a scalar, the size applies to all points. If it's a sequence, it must have the same number of entries as the x and y sequences and each entry in the sequence will apply to a different point. This choice is a fairly common one in ```matplotlib```. - in the documentation, look out for phrases like \"float or array-like\".\n",
        "\n",
        "The ```marker``` optional argument accepts a string which specifies a type of point, as specified [here](https://matplotlib.org/stable/api/markers_api.html#module-matplotlib.markers)."
      ]
    },
    {
      "cell_type": "code",
      "metadata": {
        "id": "UUiBndjoVKjI",
        "outputId": "8acd3aa0-9bd1-4f6c-9d1c-10c4ea67b6c3",
        "colab": {
          "base_uri": "https://localhost:8080/",
          "height": 282
        }
      },
      "source": [
        "import matplotlib.pyplot as plt\n",
        "\n",
        "# Specify the z and y coordinates of the 4 points\n",
        "x = [0, 4, -2, 10]\n",
        "y = [5, 1, 10, 2]\n",
        "\n",
        "# Define the variable which will specify the size of the points\n",
        "# This may be a scalar to apply to all points\n",
        "# May be a sequence, with a value given to each point\n",
        "s = 100\n",
        "#s = [20, 20, 20, 100]\n",
        "\n",
        "# Plot the scatter plot\n",
        "# Provide x and y to give coordinates\n",
        "# provide s to set the size(s)\n",
        "# Set marker to set the marker type for the points\n",
        "plt.scatter(x, y, s=s, marker=\"x\")"
      ],
      "execution_count": 1,
      "outputs": [
        {
          "output_type": "execute_result",
          "data": {
            "text/plain": [
              "<matplotlib.collections.PathCollection at 0x7f00e42b3890>"
            ]
          },
          "metadata": {
            "tags": []
          },
          "execution_count": 1
        },
        {
          "output_type": "display_data",
          "data": {
            "image/png": "[encoded data removed]",
            "text/plain": [
              "<Figure size 432x288 with 1 Axes>"
            ]
          },
          "metadata": {
            "tags": [],
            "needs_background": "light"
          }
        }
      ]
    },
    {
      "cell_type": "markdown",
      "metadata": {
        "id": "-hokT9W7B1MW"
      },
      "source": [
        "## Line Plots\n",
        "\n",
        "A line plot can be created using ```plt.plot``` ([manual page](https://matplotlib.org/stable/api/_as_gen/matplotlib.pyplot.plot.html#matplotlib.pyplot.plot)). Just like the scatter plot, the first two arguments give the x and y coordinates of a series of points which define the line.\n",
        "\n",
        "We can also set the scale of the y-axis to be logarithmic by writing ```plt.yscale(\"log\")```. Other options for the scaling of the y-axis can be found [here](https://matplotlib.org/stable/api/_as_gen/matplotlib.pyplot.yscale.html).\n",
        "\n",
        "When we use the ```plot``` command we can set a nubmer of properties of the figure and the line. We can set the colour of the line by setting the ```color``` optional arguments. Possible values are recorded [here](https://matplotlib.org/stable/gallery/color/named_colors.html).\n",
        "\n",
        "We can set the markings of the lines using the ```linestyle``` optional argument, with possible options described [here](https://matplotlib.org/stable/api/_as_gen/matplotlib.lines.Line2D.html#matplotlib.lines.Line2D.set_linestyle). The ```linewidth``` optional argument allows us to specify the width of the line, allowing us to provide a numerical value."
      ]
    },
    {
      "cell_type": "code",
      "metadata": {
        "id": "TeuYMFnf52bJ",
        "outputId": "616519af-d538-475f-f01b-4661f1e477cf",
        "colab": {
          "base_uri": "https://localhost:8080/",
          "height": 282
        }
      },
      "source": [
        "import matplotlib.pyplot as plt\n",
        "\n",
        "# Set up the values of the points to define the line\n",
        "x = [-10, -5, 0, 5, 10, 15, 20]\n",
        "y = [0.1, 0.3, 1.1, 3.5, 10.3, 31, 111]\n",
        "\n",
        "# Set the y-axis to be logarithmic\n",
        "plt.yscale(\"log\")\n",
        "\n",
        "# Plot the line\n",
        "# Set the colour to red\n",
        "plt.plot(x, y, color=\"red\", linestyle=\"-.\", linewidth=5)"
      ],
      "execution_count": 2,
      "outputs": [
        {
          "output_type": "execute_result",
          "data": {
            "text/plain": [
              "[<matplotlib.lines.Line2D at 0x7f00e42b3190>]"
            ]
          },
          "metadata": {
            "tags": []
          },
          "execution_count": 2
        },
        {
          "output_type": "display_data",
          "data": {
            "image/png": "[encoded data removed]",
            "text/plain": [
              "<Figure size 432x288 with 1 Axes>"
            ]
          },
          "metadata": {
            "tags": [],
            "needs_background": "light"
          }
        }
      ]
    },
    {
      "cell_type": "markdown",
      "metadata": {
        "id": "umsoSVnnGQCF"
      },
      "source": [
        "### Multiple lines\n",
        "\n",
        "By using the ```plt.plot``` command multiple times, multiple lines can be placed on a single figure. By specifying the ```linestyle``` and ```color``` independently, we can distinguish the lines. Note that, as we havne't specified a ```linewidth```, it defaults to 1.\n",
        "\n",
        "We can also set a label for each line which can then be included on the figure using the ```legend``` command.  Note that, in the labels here, we've inserted some subscript text. This is achieved by utilising the fact that text inside pairs of dollar signs in Matplotlib are interpreted in \"mathmode\" (the same as mathmode in LaTeX). This allows the creation of a number of [different mathematical effects](https://matplotlib.org/stable/tutorials/text/mathtext.html), including subscript text by writing an underscore followed by text in a pair of curly brackets.\n",
        "\n",
        "We can also specify the exact values of the ticks of the x-axis using ```plt.xticks``` and providing a sequence containing the desired values."
      ]
    },
    {
      "cell_type": "code",
      "metadata": {
        "id": "NLpmYrFqCsqW",
        "outputId": "6188034d-e7f2-445d-9953-acf8504fe415",
        "colab": {
          "base_uri": "https://localhost:8080/",
          "height": 282
        }
      },
      "source": [
        "import matplotlib.pyplot as plt\n",
        "\n",
        "# Set up the x-values. These can be used for both lines\n",
        "x = [0, 1, 2, 3, 4, 5, 6, 7, 8, 9, 10]\n",
        "# Set up the y-values for each line\n",
        "y1 = [10, 8, 6.4, 5, 4, 3.2, 2.5, 2, 1.6, 1.3, 1]\n",
        "y2 = [0, 0.5, 1, 1.5, 2, 2.5, 3, 3.5, 4, 4.5, 5]\n",
        "\n",
        "# Specify the values of the xticks\n",
        "plt.xticks([0, 1, 2, 3, 4, 5, 6, 7, 8, 9, 10])\n",
        "\n",
        "# Plot each line\n",
        "# Give each line a unique appearance and label\n",
        "plt.plot(x, y1, color=\"blue\", linestyle=\"-\", label=\"CaCO$_{3}$\")\n",
        "plt.plot(x, y2, color=\"red\", linestyle=\":\", label=\"H$_{2}$O $\\\\frac{1}{2}$\")\n",
        "# Add the legend\n",
        "plt.legend()"
      ],
      "execution_count": 3,
      "outputs": [
        {
          "output_type": "execute_result",
          "data": {
            "text/plain": [
              "<matplotlib.legend.Legend at 0x7f00e47ca950>"
            ]
          },
          "metadata": {
            "tags": []
          },
          "execution_count": 3
        },
        {
          "output_type": "display_data",
          "data": {
            "image/png": "[encoded data removed]",
            "text/plain": [
              "<Figure size 432x288 with 1 Axes>"
            ]
          },
          "metadata": {
            "tags": [],
            "needs_background": "light"
          }
        }
      ]
    },
    {
      "cell_type": "markdown",
      "metadata": {
        "id": "XURksb2EIMBP"
      },
      "source": [
        "## Error Bars\n",
        "\n",
        "It's possible to plot data points including error bars using the ```plt.errorbar``` command ([manual page](https://matplotlib.org/stable/api/_as_gen/matplotlib.pyplot.errorbar.html)). This receives arguments giving the x and y coordinates of points and may optionally specify the size of x and y error bars using the ```xerr``` and ``yerr``` optional arguments. Some common values these arguments may receive include a sequence (with one entry referring to each point) or a single value specifying the errors for all points.\n",
        "\n",
        "By default, the points will be joined with a line. However, this can be suppressed by giving the optional argument ```fmt``` the value ```\".\"``` which causes the points themselves to be represented with a small circle instead.\n",
        "\n",
        "As detailed in the documentation, the errorbars can be customised to quite a degree. As an example, the ```capsize``` optional argument can be set to specify the size of the caps at the edges of the error bars."
      ]
    },
    {
      "cell_type": "code",
      "metadata": {
        "id": "m6-OZo1QFdmz"
      },
      "source": [
        "import matplotlib.pyplot as plt\n",
        "\n",
        "# Create the coordinates of the points\n",
        "x = [1, 2, 3, 4]\n",
        "y = [0, 2.1, 3.8, 6.1]\n",
        "\n",
        "# Create the errors in the x direction\n",
        "xerr = [0.1, 0, 0.2, 0.1]\n",
        "\n",
        "# Plot the error bar plot\n",
        "# Provide the x and y coordinates of the points\n",
        "# Provide the unique errors in the x direction using xerr\n",
        "# Provide the uniform errors in the y direction using yerr\n",
        "# Use fmt to suppress the line\n",
        "# Set the capsize to create the lines at the end of the error bars\n",
        "plt.errorbar(x, y, xerr=xerr, yerr=0.2, fmt=\".\", capsize=3)"
      ],
      "execution_count": null,
      "outputs": []
    },
    {
      "cell_type": "markdown",
      "metadata": {
        "id": "rAOfhmPdMmLt"
      },
      "source": [
        "## Exercise\n",
        "\n",
        "A biologist is conducting an experiment where they measure the number of bacteria in a growth medium as a function of time. They obtain the following measure of bacteria population:\n",
        "\n",
        "| Time (h) | Population |\n",
        "|----------|------------|\n",
        "| 0        | 1          |\n",
        "| 3        | 2.2        |\n",
        "| 6        | 3.9        |\n",
        "| 9        | 8.5        |\n",
        "| 12       | 16.4       |\n",
        "| 15       | 30         |\n",
        "| 18       | 65         |\n",
        "| 21       | 135        |\n",
        "| 24       | 240        |\n",
        "\n",
        "They estimate these observations have an error in time of 30 minutes and a error in population of $\\pm$10%.\n",
        "\n",
        "They also produce a line of best fit with the equation:\n",
        "\n",
        "$p(t) = \\textrm{e} ^{0.231t}$\n",
        "\n",
        "where $p(t)$ is the population and $t$ is the time measured in hours.\n",
        "\n",
        "Create a figure with an ```errorbar``` plot and a simple line ```plot``` to compare the line of best fit and the observations. Decide for yourself which options display the data most clearly.\n",
        "\n",
        "### Extension\n",
        "\n",
        "The biologist then calculates the confidence interval around their line of best fit. The interval is the region whose population is within 8% either side of the line of best fit. Read the [documentation](https://matplotlib.org/stable/api/_as_gen/matplotlib.pyplot.fill_between.html) of the ```fillbetween``` class and add a shaded region to represent the confidence interval.\n",
        "\n",
        "Hint: the \"alpha\" of a colour represents how opaque it is.\n"
      ]
    },
    {
      "cell_type": "code",
      "metadata": {
        "id": "HoziBFmEKM2w"
      },
      "source": [
        ""
      ],
      "execution_count": null,
      "outputs": []
    },
    {
      "cell_type": "code",
      "metadata": {
        "cellView": "form",
        "id": "92KMSSrdIG1p"
      },
      "source": [
        "#@title\n",
        "\n",
        "import matplotlib.pyplot as plt\n",
        "import math\n",
        "\n",
        "# Set up the lists to hold the time and the population\n",
        "time = [0, 3, 6, 9, 12, 15, 18, 21, 24]\n",
        "population = [1, 2.2, 3.9, 8.5, 16.4, 30, 65, 135, 240]\n",
        "\n",
        "# Create the list to hold the errors in the population\n",
        "yerr = []\n",
        "for p in population:\n",
        "  yerr.append(p * 0.1)\n",
        "\n",
        "# You could make an argument either way for whether the y-axis should be logarithmic\n",
        "# Comment it out and decide for yourself which looks better\n",
        "plt.yscale(\"log\")\n",
        "\n",
        "# Create the lists to hold the y-coordinates of the fit and the upper and lower y-coordinates of the confidence interval\n",
        "fit = []\n",
        "shaded_lower = []\n",
        "shaded_upper = []\n",
        "\n",
        "# Calcualte the y-coordinates of the fit and the upper and lower y-coordinates of the confidence interval\n",
        "fit = []\n",
        "for t in time:\n",
        "  f = math.exp(0.231 * t)\n",
        "  fit.append(f)\n",
        "  shaded_lower.append(f * 0.92)\n",
        "  shaded_upper.append(f * 1.08)\n",
        "\n",
        "# Set the ylabel, xlabel and title\n",
        "plt.ylabel(\"Bacteria Population (Arbitrary Units)\")\n",
        "plt.xlabel(\"Time (h)\")\n",
        "plt.title(\"Bacteria Population as a Function of Time\")\n",
        "\n",
        "# Plot the error bars\n",
        "# Provide an array for the yerr\n",
        "# Provide a single value for the constant xerr\n",
        "# Give it a label so it shows up in the legend\n",
        "plt.errorbar(time, population, yerr=yerr, xerr=0.5, fmt=\".\", label=\"Observations\")\n",
        "\n",
        "# Plot the line of best fit\n",
        "# Give it a label so it shows up in the legend\n",
        "plt.plot(time, fit, label=\"Fit\", color=\"red\")\n",
        "\n",
        "# Create the shaded area for the confidence interval\n",
        "# Provide \"time\" as the x values\n",
        "# Provide the upper and lower bounds of the y-dimension\n",
        "# \"alpha\" represents how opaque the region is (on a scale of 0-1). Set it to a low value so it doesn't obscure the line/points\n",
        "# Make it the same colour as the fir line to show they're related\n",
        "# Give it a label so it shows up in the legend\n",
        "plt.fill_between(time, shaded_lower, shaded_upper, alpha=0.3, color=\"red\", label=\"Confidence Interval\")\n",
        "\n",
        "# Place the legend\n",
        "plt.legend()"
      ],
      "execution_count": null,
      "outputs": []
    }
  ]
}